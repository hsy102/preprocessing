{
 "cells": [
  {
   "cell_type": "code",
   "execution_count": 111,
   "metadata": {},
   "outputs": [
    {
     "name": "stderr",
     "output_type": "stream",
     "text": [
      "100%|██████████| 83/83 [11:41<00:00,  8.45s/it]\n"
     ]
    }
   ],
   "source": [
    "import pandas as pd\n",
    "import os\n",
    "from tqdm import tqdm\n",
    "import numpy as np\n",
    "\n",
    "csv_path = r'E:\\test'\n",
    "\n",
    "list_csv = [csv for csv in os.listdir(csv_path) if csv.endswith('csv')]\n",
    "\n",
    "for gt_file in tqdm(list_csv):\n",
    "    \n",
    "    df2 = pd.read_csv(os.path.join(csv_path, gt_file), encoding = 'utf-8')\n",
    "    df2['SUM'] = df2.iloc[:, 1:28].sum(axis = 1)\n",
    "    df2['NEW'] = df2.iloc[29]\n",
    "    df2.insert(1, 'ALL', '')\n",
    "    df2.insert(2, 'CHANGE', '')\n",
    "    df2.insert(3, 'TOOL_1', '')\n",
    "    df2.insert(4, 'TOOL_2', '')\n",
    "    df2.insert(5, 'TOOL_34', '')\n",
    "    \n",
    "    list_sum_a = df2['SUM']\n",
    "    array_sum_a = np.array(list_sum_a)\n",
    "    a = np.where(array_sum_a > 0, 1, 0)\n",
    "    df2['ALL'] = a\n",
    "    \n",
    "    list_sum_1 = df2['SUM']\n",
    "    array_sum_1 = np.array(list_sum_1)\n",
    "    b = np.where(array_sum_1 == 1, 1, 0)\n",
    "    df2['TOOL_1'] = b\n",
    "\n",
    "    list_sum_2 = df2['SUM']\n",
    "    array_sum_2 = np.array(list_sum_2)\n",
    "    c = np.where(array_sum_2 == 2, 1, 0)\n",
    "    df2['TOOL_2'] = c\n",
    "    \n",
    "    list_sum_34 = df2['SUM']\n",
    "    array_sum_34 = np.array(list_sum_34)\n",
    "    d = np.where(array_sum_34 >= 3, 1, 0)\n",
    "    df2['TOOL_34'] = d\n",
    "\n",
    "    df2['NEW'] = df2['NEW'].fillna(0)\n",
    "    \n",
    "    list_sum_c = df2['SUM']\n",
    "    list_change = []\n",
    "    for idx in range(len(list_sum_c)):\n",
    "        if idx + 1 < len(list_sum_c):\n",
    "            if list_sum_c[idx] == list_sum_c[idx + 1]:\n",
    "                list_change.append('0')\n",
    "            else:\n",
    "                list_change.append('1')\n",
    "    list_change.insert(0, '0')\n",
    "    df2['CHANGE'] = list_change\n",
    "    \n",
    "    df2.drop(['SUM'], axis = 1, inplace = True)\n",
    "    \n",
    "    df2 = df2.astype({'ALL' : 'int64'})\n",
    "    df2 = df2.astype({'CHANGE' : 'int64'})\n",
    "    df2 = df2.astype({'TOOL_1' : 'int64'})\n",
    "    df2 = df2.astype({'TOOL_2' : 'int64'})\n",
    "    df2 = df2.astype({'TOOL_34' : 'int64'})\n",
    "    df2 = df2.astype({'NEW' : 'int64'})\n",
    "    \n",
    "    csv_file_path = os.path.join(csv_path, gt_file)\n",
    "    df2.to_csv(csv_file_path, index = False)"
   ]
  }
 ],
 "metadata": {
  "kernelspec": {
   "display_name": "Python 3",
   "language": "python",
   "name": "python3"
  },
  "language_info": {
   "codemirror_mode": {
    "name": "ipython",
    "version": 3
   },
   "file_extension": ".py",
   "mimetype": "text/x-python",
   "name": "python",
   "nbconvert_exporter": "python",
   "pygments_lexer": "ipython3",
   "version": "3.8.5"
  }
 },
 "nbformat": 4,
 "nbformat_minor": 4
}
