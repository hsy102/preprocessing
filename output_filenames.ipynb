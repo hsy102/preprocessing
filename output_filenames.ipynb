{
 "cells": [
  {
   "cell_type": "code",
   "execution_count": 31,
   "metadata": {},
   "outputs": [],
   "source": [
    "# 확장자 제거\n",
    "\n",
    "import os\n",
    "\n",
    "path = 'E:\\\\작업용\\\\test\\\\Bovie Hook (da Vinci)'\n",
    "\n",
    "file_list = os.listdir(path)\n",
    "\n",
    "f = open(os.path.join(path, 'filename.txt'), 'w')\n",
    "\n",
    "for i in file_list:\n",
    "    j = i[:-4]\n",
    "    f.write(str(j))\n",
    "    f.write(str('\\n'))\n",
    "f.close()"
   ]
  },
  {
   "cell_type": "code",
   "execution_count": 62,
   "metadata": {},
   "outputs": [],
   "source": [
    "# 확장자 포함\n",
    "\n",
    "import os\n",
    "import natsort\n",
    "\n",
    "path = 'E:\\\\작업용\\\\test\\\\Bovie Hook (da Vinci)'\n",
    "\n",
    "file_list = os.listdir(path)\n",
    "sort_file_list = natsort.natsorted(file_list)\n",
    "\n",
    "f = open(os.path.join(path, 'filename.txt'), 'w')\n",
    "\n",
    "for i in sort_file_list:\n",
    "    if i.endswith('xml'):\n",
    "        pass\n",
    "    else:\n",
    "        f.write(str(i))\n",
    "        f.write(str('\\n'))\n",
    "f.close()"
   ]
  },
  {
   "cell_type": "code",
   "execution_count": 63,
   "metadata": {},
   "outputs": [
    {
     "name": "stderr",
     "output_type": "stream",
     "text": [
      "100%|██████████| 108/108 [00:00<?, ?it/s]\n",
      "100%|██████████| 192/192 [00:00<?, ?it/s]\n",
      "100%|██████████| 139/139 [00:00<00:00, 138943.82it/s]\n",
      "100%|██████████| 112/112 [00:00<?, ?it/s]\n",
      "100%|██████████| 556/556 [00:00<?, ?it/s]\n",
      "100%|██████████| 672/672 [00:00<00:00, 678193.52it/s]\n"
     ]
    }
   ],
   "source": [
    "# 생성된 filename.txt 파일 삭제\n",
    "\n",
    "import os\n",
    "import pandas as pd\n",
    "from tqdm import tqdm\n",
    "\n",
    "class_folder_list_path = 'E:\\\\작업용\\\\test'\n",
    "\n",
    "class_folder_list = os.listdir(class_folder_list_path)\n",
    "\n",
    "for class_folder in class_folder_list:\n",
    "    folder_path = os.path.join(class_folder_list_path, class_folder)\n",
    "    folder_list = os.listdir(folder_path)\n",
    "    \n",
    "    for f in tqdm(folder_list):\n",
    "        if f.endswith('txt'):\n",
    "            os.remove(os.path.join(folder_path, f))"
   ]
  },
  {
   "cell_type": "code",
   "execution_count": null,
   "metadata": {},
   "outputs": [],
   "source": []
  }
 ],
 "metadata": {
  "kernelspec": {
   "display_name": "Python 3",
   "language": "python",
   "name": "python3"
  },
  "language_info": {
   "codemirror_mode": {
    "name": "ipython",
    "version": 3
   },
   "file_extension": ".py",
   "mimetype": "text/x-python",
   "name": "python",
   "nbconvert_exporter": "python",
   "pygments_lexer": "ipython3",
   "version": "3.8.5"
  }
 },
 "nbformat": 4,
 "nbformat_minor": 4
}
