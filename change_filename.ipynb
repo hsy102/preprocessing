{
 "cells": [
  {
   "cell_type": "code",
   "execution_count": null,
   "metadata": {},
   "outputs": [],
   "source": [
    "import pathlib\n",
    "import openpyxl\n",
    "\n",
    "\n",
    "def rename_files(dir_path, filename):\n",
    "\n",
    "    wb = openpyxl.load_workbook(filename)\n",
    "    ws = wb.get_sheet_by_name('Sheet1')\n",
    "    \n",
    "    path = pathlib.Path(dir_path)\n",
    "    print(path)\n",
    "    \n",
    "    files = path.glob('*')\n",
    "    print(files)\n",
    "    \n",
    "    print('최대행값: ', ws.max_row)\n",
    "    \n",
    "    for file in list(files):\n",
    "        if file.is_file():\n",
    "            for r in range(2, ws.max_row + 1):\n",
    "                if file.name == ws.cell(r, 2).value:\n",
    "                    file.rename(path / ws.cell(r, 3).value)\n",
    "                    print(f'Row: {ws.cell(r, 1).value}')\n",
    "        else:\n",
    "            print(f'{file} - Not a file!')\n",
    "    \n",
    "    wb.close()\n",
    "    \n",
    "\n",
    "directory = 'E:\\\\video'\n",
    "rfilename = 'E:\\\\test.xlsx'\n",
    "\n",
    "\n",
    "rename_files(directory, rfilename)"
   ]
  }
 ],
 "metadata": {
  "kernelspec": {
   "display_name": "Python 3",
   "language": "python",
   "name": "python3"
  },
  "language_info": {
   "codemirror_mode": {
    "name": "ipython",
    "version": 3
   },
   "file_extension": ".py",
   "mimetype": "text/x-python",
   "name": "python",
   "nbconvert_exporter": "python",
   "pygments_lexer": "ipython3",
   "version": "3.8.5"
  }
 },
 "nbformat": 4,
 "nbformat_minor": 4
}
