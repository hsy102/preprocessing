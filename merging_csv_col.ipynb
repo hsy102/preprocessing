{
 "cells": [
  {
   "cell_type": "code",
   "execution_count": 4,
   "metadata": {},
   "outputs": [],
   "source": [
    "import os\n",
    "import pandas as pd\n",
    "from tqdm import tqdm"
   ]
  },
  {
   "cell_type": "code",
   "execution_count": 9,
   "metadata": {},
   "outputs": [
    {
     "name": "stderr",
     "output_type": "stream",
     "text": [
      "100%|██████████| 4/4 [00:00<00:00,  6.76it/s]\n"
     ]
    }
   ],
   "source": [
    "path_csv = r'E:\\test\\gt\\merge'\n",
    "\n",
    "list_csv = [csv for csv in os.listdir(path_csv) if csv.endswith('csv')]\n",
    "for csv in tqdm(list_csv):\n",
    "    csv_path = os.path.join(path_csv, csv)\n",
    "    num = csv.split('.')[0]\n",
    "    nums = num.split('_ob')[0]\n",
    "    \n",
    "    df_tool_phase = pd.read_csv(os.path.join(path_csv, nums) + '_ob.csv')\n",
    "    df_organ_bleeding = pd.read_csv(os.path.join(path_csv, nums) + '.csv')\n",
    "    \n",
    "    df_organ_bleeding_drop = df_organ_bleeding.drop(labels = 'Frame_No.', axis = 1)\n",
    "    \n",
    "    df_concat = pd.concat([df_tool_phase, df_organ_bleeding_drop], axis = 1)\n",
    "    \n",
    "    col1 = df_concat.columns[1:8].to_list()\n",
    "    col2 = df_concat.columns[8:-1].to_list()\n",
    "    new_col = ['Frame_No.'] + col2 + col1 + ['phase']\n",
    "    new_df_concat = df_concat[new_col]\n",
    "    new_df_concat_nan = new_df_concat.dropna(axis = 0)\n",
    "    new_df_concat_nan.to_csv(os.path.join(path_csv, nums + '_final.csv'), index = False)"
   ]
  },
  {
   "cell_type": "code",
   "execution_count": null,
   "metadata": {},
   "outputs": [],
   "source": []
  }
 ],
 "metadata": {
  "kernelspec": {
   "display_name": "Python 3",
   "language": "python",
   "name": "python3"
  },
  "language_info": {
   "codemirror_mode": {
    "name": "ipython",
    "version": 3
   },
   "file_extension": ".py",
   "mimetype": "text/x-python",
   "name": "python",
   "nbconvert_exporter": "python",
   "pygments_lexer": "ipython3",
   "version": "3.8.5"
  }
 },
 "nbformat": 4,
 "nbformat_minor": 4
}
