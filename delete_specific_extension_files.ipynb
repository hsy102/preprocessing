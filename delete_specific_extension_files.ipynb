{
 "cells": [
  {
   "cell_type": "code",
   "execution_count": 20,
   "metadata": {},
   "outputs": [
    {
     "name": "stderr",
     "output_type": "stream",
     "text": [
      "100%|██████████| 140/140 [00:00<00:00, 294.53it/s]\n",
      "100%|██████████| 139/139 [00:00<00:00, 277.54it/s]\n",
      "100%|██████████| 112/112 [00:00<00:00, 118.61it/s]\n",
      "100%|██████████| 139/139 [00:01<00:00, 119.35it/s]\n",
      "100%|██████████| 139/139 [00:00<00:00, 158.21it/s]\n",
      "100%|██████████| 95/95 [00:00<00:00, 172.25it/s]\n",
      "100%|██████████| 105/105 [00:00<00:00, 123.58it/s]\n",
      "100%|██████████| 114/114 [00:00<00:00, 175.67it/s]\n",
      "100%|██████████| 112/112 [00:00<00:00, 164.72it/s]\n",
      "100%|██████████| 96/96 [00:00<00:00, 117.92it/s]\n",
      "100%|██████████| 91/91 [00:00<00:00, 176.67it/s]\n",
      "100%|██████████| 114/114 [00:00<00:00, 161.09it/s]\n",
      "100%|██████████| 139/139 [00:01<00:00, 134.45it/s]\n",
      "100%|██████████| 139/139 [00:00<00:00, 160.43it/s]\n",
      "100%|██████████| 139/139 [00:01<00:00, 134.24it/s]\n",
      "100%|██████████| 114/114 [00:00<00:00, 178.38it/s]\n",
      "100%|██████████| 139/139 [00:01<00:00, 132.71it/s]\n",
      "100%|██████████| 106/106 [00:00<00:00, 163.56it/s]\n",
      "100%|██████████| 139/139 [00:00<00:00, 157.64it/s]\n",
      "100%|██████████| 139/139 [00:00<00:00, 140.20it/s]\n",
      "100%|██████████| 139/139 [00:00<00:00, 176.26it/s]\n",
      "100%|██████████| 139/139 [00:01<00:00, 128.92it/s]\n",
      "100%|██████████| 112/112 [00:00<00:00, 171.92it/s]\n"
     ]
    }
   ],
   "source": [
    "import os\n",
    "import pandas as pd\n",
    "from tqdm import tqdm\n",
    "\n",
    "class_folder_list_path = 'O:\\\\학습데이터\\\\작업용\\\\업로드예정\\\\05.자궁내막암'\n",
    "\n",
    "class_folder_list = os.listdir(class_folder_list_path)\n",
    "\n",
    "for class_folder in class_folder_list:\n",
    "    folder_path = os.path.join(class_folder_list_path, class_folder)\n",
    "    folder_list = os.listdir(folder_path)\n",
    "    \n",
    "    for f in tqdm(folder_list):\n",
    "        if f.endswith('png'):\n",
    "            os.remove(os.path.join(folder_path, f))"
   ]
  },
  {
   "cell_type": "code",
   "execution_count": null,
   "metadata": {},
   "outputs": [],
   "source": []
  }
 ],
 "metadata": {
  "kernelspec": {
   "display_name": "Python 3",
   "language": "python",
   "name": "python3"
  },
  "language_info": {
   "codemirror_mode": {
    "name": "ipython",
    "version": 3
   },
   "file_extension": ".py",
   "mimetype": "text/x-python",
   "name": "python",
   "nbconvert_exporter": "python",
   "pygments_lexer": "ipython3",
   "version": "3.8.5"
  }
 },
 "nbformat": 4,
 "nbformat_minor": 4
}
