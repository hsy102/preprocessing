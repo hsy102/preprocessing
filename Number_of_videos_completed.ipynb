{
 "cells": [
  {
   "cell_type": "code",
   "execution_count": 8,
   "metadata": {},
   "outputs": [],
   "source": [
    "import pandas as pd"
   ]
  },
  {
   "cell_type": "code",
   "execution_count": 9,
   "metadata": {},
   "outputs": [],
   "source": [
    "file_path = r'E:\\test\\gt\\GT.xlsx'\n",
    "\n",
    "df_01 = pd.read_excel(file_path, sheet_name = '01', engine = 'openpyxl')\n",
    "df_02_1 = pd.read_excel(file_path, sheet_name = '02-1', engine = 'openpyxl')\n",
    "df_02_2 = pd.read_excel(file_path, sheet_name = '02-2', engine = 'openpyxl')\n",
    "df_03_1 = pd.read_excel(file_path, sheet_name = '03-1', engine = 'openpyxl')\n",
    "df_03_2 = pd.read_excel(file_path, sheet_name = '03-2', engine = 'openpyxl')\n",
    "df_05 = pd.read_excel(file_path, sheet_name = '05', engine = 'openpyxl')"
   ]
  },
  {
   "cell_type": "code",
   "execution_count": 10,
   "metadata": {},
   "outputs": [],
   "source": [
    "df_01_del = df_01.dropna()\n",
    "df_02_1_del = df_02_1.dropna()\n",
    "df_02_2_del = df_02_2.dropna()\n",
    "df_03_1_del = df_03_1.dropna()\n",
    "df_03_2_del = df_03_2.dropna()\n",
    "df_05_del = df_05.dropna()"
   ]
  },
  {
   "cell_type": "code",
   "execution_count": 11,
   "metadata": {},
   "outputs": [],
   "source": [
    "with pd.ExcelWriter(r'E:\\test\\gt\\GT2.xlsx') as writer:\n",
    "    df_01_del.to_excel(writer, index = False, sheet_name = '01')\n",
    "    df_02_1_del.to_excel(writer, index = False, sheet_name = '02-1')\n",
    "    df_02_2_del.to_excel(writer, index = False, sheet_name = '02-2')\n",
    "    df_03_1_del.to_excel(writer, index = False, sheet_name = '03-1')\n",
    "    df_03_2_del.to_excel(writer, index = False, sheet_name = '03-2')\n",
    "    df_05_del.to_excel(writer, index = False, sheet_name = '05')"
   ]
  },
  {
   "cell_type": "code",
   "execution_count": 12,
   "metadata": {},
   "outputs": [
    {
     "name": "stdout",
     "output_type": "stream",
     "text": [
      "01 동영상 개수 : 82 개\n",
      "02-1 동영상 개수 : 66 개\n",
      "02-2 동영상 개수 : 67 개\n",
      "03-1 동영상 개수 : 94 개\n",
      "03-2 동영상 개수 : 93 개\n",
      "05 동영상 개수 : 96 개\n",
      "\u001b[1m총 동영상 개수 : 498 개\u001b[0m\n"
     ]
    }
   ],
   "source": [
    "# 수술별 동영상 개수 및 전체 수술 개수\n",
    "\n",
    "df_01_count = df_01.shape[0]\n",
    "df_02_1_count = df_02_1.shape[0]\n",
    "df_02_2_count = df_02_2.shape[0]\n",
    "df_03_1_count = df_03_1.shape[0]\n",
    "df_03_2_count = df_03_2.shape[0]\n",
    "df_05_count = df_05.shape[0]\n",
    "\n",
    "print('01 동영상 개수 :', df_01_count, '개')\n",
    "print('02-1 동영상 개수 :', df_02_1_count, '개')\n",
    "print('02-2 동영상 개수 :', df_02_2_count, '개')\n",
    "print('03-1 동영상 개수 :', df_03_1_count, '개')\n",
    "print('03-2 동영상 개수 :', df_03_2_count, '개')\n",
    "print('05 동영상 개수 :', df_05_count, '개')\n",
    "print('\\033[1m' + '총 동영상 개수 :', df_01_count + df_02_1_count + df_02_2_count + df_03_1_count + df_03_2_count + df_05_count, '개' +'\\033[0m')"
   ]
  },
  {
   "cell_type": "code",
   "execution_count": 13,
   "metadata": {
    "scrolled": true
   },
   "outputs": [
    {
     "name": "stdout",
     "output_type": "stream",
     "text": [
      "01 완료된 동영상 개수 : 27 개\n",
      "02-1 완료된 동영상 개수 : 1 개\n",
      "02-2 완료된 동영상 개수 : 4 개\n",
      "03-1 완료된 동영상 개수 : 46 개\n",
      "03-2 완료된 동영상 개수 : 49 개\n",
      "05 완료된 동영상 개수 : 1 개\n",
      "\u001b[1m총 완료된 동영상 개수 : 128 개\u001b[0m\n"
     ]
    }
   ],
   "source": [
    "# 수술별 완료 개수 및 전체 수술 완료 개수\n",
    "\n",
    "df_01_row = df_01_del.shape[0]\n",
    "df_02_1_row = df_02_1_del.shape[0]\n",
    "df_02_2_row = df_02_2_del.shape[0]\n",
    "df_03_1_row = df_03_1_del.shape[0]\n",
    "df_03_2_row = df_03_2_del.shape[0]\n",
    "df_05_row = df_05_del.shape[0]\n",
    "\n",
    "print('01 완료된 동영상 개수 :', df_01_row, '개')\n",
    "print('02-1 완료된 동영상 개수 :', df_02_1_row, '개')\n",
    "print('02-2 완료된 동영상 개수 :', df_02_2_row, '개')\n",
    "print('03-1 완료된 동영상 개수 :', df_03_1_row, '개')\n",
    "print('03-2 완료된 동영상 개수 :', df_03_2_row, '개')\n",
    "print('05 완료된 동영상 개수 :', df_05_row, '개')\n",
    "print('\\033[1m' + '총 완료된 동영상 개수 :', df_01_row + df_02_1_row + df_02_2_row + df_03_1_row + df_03_2_row + df_05_row, '개' +'\\033[0m')"
   ]
  },
  {
   "cell_type": "code",
   "execution_count": 14,
   "metadata": {},
   "outputs": [
    {
     "name": "stdout",
     "output_type": "stream",
     "text": [
      "01 도구 개수 : 26 개\n",
      "02-1 도구 개수 : 20 개\n",
      "02-2 도구 개수 : 22 개\n",
      "03-1 도구 개수 : 17 개\n",
      "03-2 도구 개수 : 16 개\n",
      "05 도구 개수 : 23 개\n"
     ]
    }
   ],
   "source": [
    "# 수술별 도구 개수 카운트\n",
    "\n",
    "df_01_col = df_01_del.shape[1] - 2\n",
    "df_02_1_col = df_02_1_del.shape[1] - 2\n",
    "df_02_2_col = df_02_2_del.shape[1] - 2\n",
    "df_03_1_col = df_03_1_del.shape[1] - 2\n",
    "df_03_2_col = df_03_2_del.shape[1] - 2\n",
    "df_05_col = df_05_del.shape[1] - 2\n",
    "\n",
    "print('01 도구 개수 :', df_01_col, '개')\n",
    "print('02-1 도구 개수 :', df_02_1_col, '개')\n",
    "print('02-2 도구 개수 :', df_02_2_col, '개')\n",
    "print('03-1 도구 개수 :', df_03_1_col, '개')\n",
    "print('03-2 도구 개수 :', df_03_2_col, '개')\n",
    "print('05 도구 개수 :', df_05_col, '개')"
   ]
  },
  {
   "cell_type": "code",
   "execution_count": null,
   "metadata": {},
   "outputs": [],
   "source": []
  }
 ],
 "metadata": {
  "kernelspec": {
   "display_name": "Python 3",
   "language": "python",
   "name": "python3"
  },
  "language_info": {
   "codemirror_mode": {
    "name": "ipython",
    "version": 3
   },
   "file_extension": ".py",
   "mimetype": "text/x-python",
   "name": "python",
   "nbconvert_exporter": "python",
   "pygments_lexer": "ipython3",
   "version": "3.8.5"
  }
 },
 "nbformat": 4,
 "nbformat_minor": 4
}
