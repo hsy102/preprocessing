{
 "cells": [
  {
   "cell_type": "code",
   "execution_count": 1,
   "metadata": {},
   "outputs": [
    {
     "name": "stdout",
     "output_type": "stream",
     "text": [
      "4.0.1\n"
     ]
    }
   ],
   "source": [
    "import cv2\n",
    "import os\n",
    "import pandas as pd\n",
    "\n",
    "print(cv2.__version__)"
   ]
  },
  {
   "cell_type": "code",
   "execution_count": 28,
   "metadata": {},
   "outputs": [],
   "source": [
    "path = 'E:\\\\Video'\n",
    "\n",
    "\n",
    "filelist = os.listdir(path)\n",
    "\n",
    "\n",
    "width_list = []\n",
    "height_list = []\n",
    "fps_list = []\n",
    "\n",
    "\n",
    "for file in filelist:\n",
    "    video = cv2.VideoCapture(os.path.join(path, file))\n",
    "    \n",
    "    width = int(video.get(cv2.CAP_PROP_FRAME_WIDTH))\n",
    "    width_list.append(width)\n",
    "    \n",
    "    height = int(video.get(cv2.CAP_PROP_FRAME_HEIGHT))\n",
    "    height_list.append(height)\n",
    "    \n",
    "    fps = video.get(cv2.CAP_PROP_FPS)\n",
    "    fps_list.append(fps)\n",
    "    \n",
    "    \n",
    "#print('\\nfilename :', filelist)\n",
    "#print('width :', width_list)\n",
    "#print('height :', height_list)\n",
    "#print('fps :', fps_list)\n",
    "\n",
    "\n",
    "df = pd.DataFrame({\n",
    "    'filename': [],\n",
    "    'width': [],\n",
    "    'height': [],\n",
    "    'fps': []\n",
    "})\n",
    "\n",
    "\n",
    "df['filename'] = filelist\n",
    "df['width'] = width_list\n",
    "df['height'] = height_list\n",
    "df['fps'] = fps_list\n",
    "\n",
    "\n",
    "df.index = df.index + 1\n",
    "\n",
    "\n",
    "df.to_excel('E:\\\\Video_Properties_v0.1.xlsx')"
   ]
  },
  {
   "cell_type": "code",
   "execution_count": null,
   "metadata": {},
   "outputs": [],
   "source": []
  }
 ],
 "metadata": {
  "kernelspec": {
   "display_name": "Python 3",
   "language": "python",
   "name": "python3"
  },
  "language_info": {
   "codemirror_mode": {
    "name": "ipython",
    "version": 3
   },
   "file_extension": ".py",
   "mimetype": "text/x-python",
   "name": "python",
   "nbconvert_exporter": "python",
   "pygments_lexer": "ipython3",
   "version": "3.8.5"
  }
 },
 "nbformat": 4,
 "nbformat_minor": 4
}
