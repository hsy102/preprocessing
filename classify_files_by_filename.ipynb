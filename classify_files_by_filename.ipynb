{
 "cells": [
  {
   "cell_type": "code",
   "execution_count": 47,
   "metadata": {},
   "outputs": [],
   "source": [
    "import os\n",
    "import shutil\n",
    "\n",
    "path_dir = r'E:\\test\\gt\\coladd'  \n",
    "file_list = os.listdir(path_dir)\n",
    "\n",
    "for item in file_list:\n",
    "    num = item.split('_')[4]\n",
    "    num_path = os.path.join(path_dir, num)\n",
    "    os.makedirs(num_path, exist_ok = True)\n",
    "    new_file_path = os.path.join(num_path, item)\n",
    "    item_path = os.path.join(path_dir, item)\n",
    "    shutil.copy(item_path, new_file_path)"
   ]
  },
  {
   "cell_type": "code",
   "execution_count": null,
   "metadata": {},
   "outputs": [],
   "source": []
  }
 ],
 "metadata": {
  "kernelspec": {
   "display_name": "Python 3",
   "language": "python",
   "name": "python3"
  },
  "language_info": {
   "codemirror_mode": {
    "name": "ipython",
    "version": 3
   },
   "file_extension": ".py",
   "mimetype": "text/x-python",
   "name": "python",
   "nbconvert_exporter": "python",
   "pygments_lexer": "ipython3",
   "version": "3.8.5"
  }
 },
 "nbformat": 4,
 "nbformat_minor": 4
}
