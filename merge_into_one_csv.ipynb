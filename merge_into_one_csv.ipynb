{
 "cells": [
  {
   "cell_type": "code",
   "execution_count": 432,
   "metadata": {},
   "outputs": [],
   "source": [
    "import pandas as pd\n",
    "import glob\n",
    "import os\n",
    "\n",
    "\n",
    "def merge_files(file_path, file_format, save_path, save_format, columns = None):\n",
    "    merge_df = pd.DataFrame()\n",
    "    file_list = file_list = [f\"{file_path}/{file}\" for file in os.listdir(file_path) if file_format in file]\n",
    "    \n",
    "    for file in file_list:\n",
    "        if file_format == \".xlsx\":\n",
    "            file_df = pd.read_excel(file)\n",
    "        else:\n",
    "            file_df = pd.read_csv(file)\n",
    "        \n",
    "        if columns is None:\n",
    "            columns = file_df.columns\n",
    "            \n",
    "        temp_df = pd.DataFrame(file_df, columns=columns)\n",
    "        \n",
    "        merge_df = merge_df.append(temp_df)\n",
    "        \n",
    "    if save_format == \".xlsx\":\n",
    "        merge_df.to_excel(save_path, index=False)\n",
    "    else:\n",
    "        merge_df.to_csv(save_path, index=False)\n",
    "        \n",
    "\n",
    "path = r'E:\\test\\0033'\n",
    "dirname = os.path.split(path)[1] + '.csv'\n",
    "\n",
    "if __name__ == \"__main__\":\n",
    "    merge_files(file_path = path, \n",
    "                file_format=\".csv\", \n",
    "                save_path = os.path.join(path, dirname), \n",
    "                save_format=\".csv\")"
   ]
  },
  {
   "cell_type": "code",
   "execution_count": 466,
   "metadata": {},
   "outputs": [],
   "source": [
    "import pandas as pd\n",
    "\n",
    "pd.set_option('display.unicode.east_asian_width', True)\n",
    "\n",
    "csv_path = r'E:\\test\\0033'\n",
    "\n",
    "filename = os.path.split(csv_path)[1] + '.csv'\n",
    "gt_filename = os.path.split(csv_path)[1] + '_GT_.csv'\n",
    "\n",
    "df1_path = filename \n",
    "df2_path = gt_filename\n",
    "save_path = filename\n",
    "\n",
    "df1 = pd.read_csv(os.path.join(csv_path, df1_path))\n",
    "df2 = pd.read_csv(os.path.join(csv_path, df2_path))\n",
    "\n",
    "merge_outer = pd.merge(df1,df2, how = 'right')\n",
    "merge_outer= merge_outer.drop_duplicates(['Frame_No.'], keep = 'first')\n",
    "merge_outer = merge_outer.fillna(0)\n",
    "merge_outer.to_csv(os.path.join(csv_path, save_path), index = False)"
   ]
  }
 ],
 "metadata": {
  "kernelspec": {
   "display_name": "Python 3",
   "language": "python",
   "name": "python3"
  },
  "language_info": {
   "codemirror_mode": {
    "name": "ipython",
    "version": 3
   },
   "file_extension": ".py",
   "mimetype": "text/x-python",
   "name": "python",
   "nbconvert_exporter": "python",
   "pygments_lexer": "ipython3",
   "version": "3.8.5"
  }
 },
 "nbformat": 4,
 "nbformat_minor": 4
}
