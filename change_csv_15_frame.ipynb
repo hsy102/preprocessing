{
 "cells": [
  {
   "cell_type": "code",
   "execution_count": 339,
   "metadata": {},
   "outputs": [
    {
     "name": "stderr",
     "output_type": "stream",
     "text": [
      "100%|██████████| 29/29 [00:04<00:00,  6.02it/s]\n"
     ]
    }
   ],
   "source": [
    "import pandas as pd\n",
    "import os\n",
    "import shutil\n",
    "from tqdm import tqdm\n",
    "\n",
    "path = r'E:\\test'\n",
    "\n",
    "if not os.path.exists(path + 'copy'):\n",
    "    copy_path = os.path.join(path, 'copy')\n",
    "    shutil.copytree(path, copy_path)\n",
    "\n",
    "list_csv = [csv for csv in os.listdir(copy_path) if csv.endswith('csv')]\n",
    "for csv in tqdm(list_csv):\n",
    "    csv_path = os.path.join(copy_path, csv)\n",
    "    df = pd.read_csv(csv_path)\n",
    "    fn = list(frame_number for frame_number in df['Frame_No.'] if frame_number % 15 == 0)\n",
    "    df1 = df.loc[fn]\n",
    "    df1.to_csv(csv_path, index = False)"
   ]
  },
  {
   "cell_type": "code",
   "execution_count": 42,
   "metadata": {},
   "outputs": [
    {
     "name": "stderr",
     "output_type": "stream",
     "text": [
      "100%|██████████| 4/4 [00:00<00:00,  8.42it/s]\n"
     ]
    }
   ],
   "source": [
    "\n",
    "import pandas as pd\n",
    "import os\n",
    "from tqdm import tqdm\n",
    "\n",
    "path_csv = r'E:\\test'\n",
    "\n",
    "list_csv = [csv for csv in os.listdir(path_csv) if csv.endswith('csv')]\n",
    "for csv in tqdm(list_csv):\n",
    "    csv_path = os.path.join(path_csv, csv)\n",
    "    df = pd.read_csv(csv_path)\n",
    "    fn = list(frame_number for frame_number in df['Frame_No.'] if frame_number % 15 == 0)\n",
    "    df1 = df.loc[fn]\n",
    "    df1.to_csv(csv_path, index = False)"
   ]
  },
  {
   "cell_type": "code",
   "execution_count": 333,
   "metadata": {},
   "outputs": [],
   "source": [
    "\n",
    "import pandas as pd\n",
    "import os\n",
    "\n",
    "tool_path_csv = r'E:\\test'\n",
    "\n",
    "folders = os.listdir(tool_path_csv)\n",
    "\n",
    "df_all = pd.DataFrame()\n",
    "for i in range(0, len(folders)):\n",
    "    try:\n",
    "        if folders[i].split('.')[1] == 'csv':\n",
    "            file = tool_path_csv + \"\\\\\" + folders[i]\n",
    "            df = pd.read_csv(file, encoding = 'utf-8')\n",
    "            if i != 0:\n",
    "                df = df.drop(['Frame_No.'], axis = 1)\n",
    "            df_all = pd.concat([df_all, df], axis = 1)\n",
    "            df_all.to_csv(os.path.join(tool_path_csv, '0096.csv'), index = False)\n",
    "    except IndexError:\n",
    "        print(\"list index out of range\")"
   ]
  },
  {
   "cell_type": "code",
   "execution_count": null,
   "metadata": {},
   "outputs": [],
   "source": []
  }
 ],
 "metadata": {
  "kernelspec": {
   "display_name": "Python 3",
   "language": "python",
   "name": "python3"
  },
  "language_info": {
   "codemirror_mode": {
    "name": "ipython",
    "version": 3
   },
   "file_extension": ".py",
   "mimetype": "text/x-python",
   "name": "python",
   "nbconvert_exporter": "python",
   "pygments_lexer": "ipython3",
   "version": "3.8.5"
  }
 },
 "nbformat": 4,
 "nbformat_minor": 4
}
